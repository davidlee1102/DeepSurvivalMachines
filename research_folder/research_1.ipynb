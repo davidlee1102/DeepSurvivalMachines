{
 "cells": [
  {
   "cell_type": "code",
   "execution_count": 29,
   "outputs": [],
   "source": [
    "import sys\n",
    "\n",
    "sys.path.append('../')\n",
    "from auton_survival import datasets\n",
    "outcomes, features = datasets.load_support()"
   ],
   "metadata": {
    "collapsed": false,
    "pycharm": {
     "name": "#%%\n"
    }
   }
  },
  {
   "cell_type": "code",
   "execution_count": 30,
   "outputs": [
    {
     "data": {
      "text/plain": "      event  time\n0         0  2029\n1         1     4\n2         1    47\n3         1   133\n4         0  2029\n...     ...   ...\n9100      0   350\n9101      0   347\n9102      0   346\n9103      1     7\n9104      1   198\n\n[9105 rows x 2 columns]",
      "text/html": "<div>\n<style scoped>\n    .dataframe tbody tr th:only-of-type {\n        vertical-align: middle;\n    }\n\n    .dataframe tbody tr th {\n        vertical-align: top;\n    }\n\n    .dataframe thead th {\n        text-align: right;\n    }\n</style>\n<table border=\"1\" class=\"dataframe\">\n  <thead>\n    <tr style=\"text-align: right;\">\n      <th></th>\n      <th>event</th>\n      <th>time</th>\n    </tr>\n  </thead>\n  <tbody>\n    <tr>\n      <th>0</th>\n      <td>0</td>\n      <td>2029</td>\n    </tr>\n    <tr>\n      <th>1</th>\n      <td>1</td>\n      <td>4</td>\n    </tr>\n    <tr>\n      <th>2</th>\n      <td>1</td>\n      <td>47</td>\n    </tr>\n    <tr>\n      <th>3</th>\n      <td>1</td>\n      <td>133</td>\n    </tr>\n    <tr>\n      <th>4</th>\n      <td>0</td>\n      <td>2029</td>\n    </tr>\n    <tr>\n      <th>...</th>\n      <td>...</td>\n      <td>...</td>\n    </tr>\n    <tr>\n      <th>9100</th>\n      <td>0</td>\n      <td>350</td>\n    </tr>\n    <tr>\n      <th>9101</th>\n      <td>0</td>\n      <td>347</td>\n    </tr>\n    <tr>\n      <th>9102</th>\n      <td>0</td>\n      <td>346</td>\n    </tr>\n    <tr>\n      <th>9103</th>\n      <td>1</td>\n      <td>7</td>\n    </tr>\n    <tr>\n      <th>9104</th>\n      <td>1</td>\n      <td>198</td>\n    </tr>\n  </tbody>\n</table>\n<p>9105 rows × 2 columns</p>\n</div>"
     },
     "execution_count": 30,
     "metadata": {},
     "output_type": "execute_result"
    }
   ],
   "source": [
    "outcomes"
   ],
   "metadata": {
    "collapsed": false,
    "pycharm": {
     "name": "#%%\n"
    }
   }
  },
  {
   "cell_type": "code",
   "execution_count": 31,
   "outputs": [
    {
     "data": {
      "text/plain": "         sex            dzgroup             dzclass      income   race  \\\n0       male        Lung Cancer              Cancer    $11-$25k  other   \n1     female          Cirrhosis  COPD/CHF/Cirrhosis    $11-$25k  white   \n2     female          Cirrhosis  COPD/CHF/Cirrhosis  under $11k  white   \n3     female        Lung Cancer              Cancer  under $11k  white   \n4     female  ARF/MOSF w/Sepsis            ARF/MOSF         NaN  white   \n...      ...                ...                 ...         ...    ...   \n9100    male  ARF/MOSF w/Sepsis            ARF/MOSF         NaN  white   \n9101  female               Coma                Coma         NaN  white   \n9102    male  ARF/MOSF w/Sepsis            ARF/MOSF         NaN  white   \n9103    male       MOSF w/Malig            ARF/MOSF         NaN  white   \n9104  female  ARF/MOSF w/Sepsis            ARF/MOSF    $11-$25k  white   \n\n              ca       age  num.co  meanbp       wblc  ...       alb  \\\n0     metastatic  62.84998       0    97.0   6.000000  ...  1.799805   \n1             no  60.33899       2    43.0  17.097656  ...       NaN   \n2             no  52.74698       2    70.0   8.500000  ...       NaN   \n3     metastatic  42.38498       2    75.0   9.099609  ...       NaN   \n4             no  79.88495       1    59.0  13.500000  ...       NaN   \n...          ...       ...     ...     ...        ...  ...       ...   \n9100          no  66.07300       1   109.0   7.399414  ...  3.699707   \n9101          no  55.15399       1    43.0        NaN  ...       NaN   \n9102          no  70.38196       1   111.0   8.398438  ...       NaN   \n9103         yes  47.01999       1    99.0   7.599609  ...  1.199951   \n9104          no  81.53894       1    75.0   8.599609  ...  4.500000   \n\n          bili      crea    sod        ph  glucose   bun   urine  adlp  adls  \n0     0.199982  1.199951  141.0  7.459961      NaN   NaN     NaN   7.0   7.0  \n1          NaN  5.500000  132.0  7.250000      NaN   NaN     NaN   NaN   1.0  \n2     2.199707  2.000000  134.0  7.459961      NaN   NaN     NaN   1.0   0.0  \n3          NaN  0.799927  139.0       NaN      NaN   NaN     NaN   0.0   0.0  \n4          NaN  0.799927  143.0  7.509766      NaN   NaN     NaN   NaN   2.0  \n...        ...       ...    ...       ...      ...   ...     ...   ...   ...  \n9100  0.399963  1.099854  131.0  7.459961    188.0  21.0     NaN   NaN   0.0  \n9101       NaN  5.899414  135.0  7.289062    190.0  49.0     0.0   NaN   0.0  \n9102  0.399963  2.699707  139.0  7.379883    189.0  60.0  3900.0   NaN   NaN  \n9103  0.399963  3.500000  135.0  7.469727    246.0  55.0     NaN   NaN   0.0  \n9104  0.599976  1.199951  137.0  7.289062    187.0  15.0     NaN   0.0   NaN  \n\n[9105 rows x 24 columns]",
      "text/html": "<div>\n<style scoped>\n    .dataframe tbody tr th:only-of-type {\n        vertical-align: middle;\n    }\n\n    .dataframe tbody tr th {\n        vertical-align: top;\n    }\n\n    .dataframe thead th {\n        text-align: right;\n    }\n</style>\n<table border=\"1\" class=\"dataframe\">\n  <thead>\n    <tr style=\"text-align: right;\">\n      <th></th>\n      <th>sex</th>\n      <th>dzgroup</th>\n      <th>dzclass</th>\n      <th>income</th>\n      <th>race</th>\n      <th>ca</th>\n      <th>age</th>\n      <th>num.co</th>\n      <th>meanbp</th>\n      <th>wblc</th>\n      <th>...</th>\n      <th>alb</th>\n      <th>bili</th>\n      <th>crea</th>\n      <th>sod</th>\n      <th>ph</th>\n      <th>glucose</th>\n      <th>bun</th>\n      <th>urine</th>\n      <th>adlp</th>\n      <th>adls</th>\n    </tr>\n  </thead>\n  <tbody>\n    <tr>\n      <th>0</th>\n      <td>male</td>\n      <td>Lung Cancer</td>\n      <td>Cancer</td>\n      <td>$11-$25k</td>\n      <td>other</td>\n      <td>metastatic</td>\n      <td>62.84998</td>\n      <td>0</td>\n      <td>97.0</td>\n      <td>6.000000</td>\n      <td>...</td>\n      <td>1.799805</td>\n      <td>0.199982</td>\n      <td>1.199951</td>\n      <td>141.0</td>\n      <td>7.459961</td>\n      <td>NaN</td>\n      <td>NaN</td>\n      <td>NaN</td>\n      <td>7.0</td>\n      <td>7.0</td>\n    </tr>\n    <tr>\n      <th>1</th>\n      <td>female</td>\n      <td>Cirrhosis</td>\n      <td>COPD/CHF/Cirrhosis</td>\n      <td>$11-$25k</td>\n      <td>white</td>\n      <td>no</td>\n      <td>60.33899</td>\n      <td>2</td>\n      <td>43.0</td>\n      <td>17.097656</td>\n      <td>...</td>\n      <td>NaN</td>\n      <td>NaN</td>\n      <td>5.500000</td>\n      <td>132.0</td>\n      <td>7.250000</td>\n      <td>NaN</td>\n      <td>NaN</td>\n      <td>NaN</td>\n      <td>NaN</td>\n      <td>1.0</td>\n    </tr>\n    <tr>\n      <th>2</th>\n      <td>female</td>\n      <td>Cirrhosis</td>\n      <td>COPD/CHF/Cirrhosis</td>\n      <td>under $11k</td>\n      <td>white</td>\n      <td>no</td>\n      <td>52.74698</td>\n      <td>2</td>\n      <td>70.0</td>\n      <td>8.500000</td>\n      <td>...</td>\n      <td>NaN</td>\n      <td>2.199707</td>\n      <td>2.000000</td>\n      <td>134.0</td>\n      <td>7.459961</td>\n      <td>NaN</td>\n      <td>NaN</td>\n      <td>NaN</td>\n      <td>1.0</td>\n      <td>0.0</td>\n    </tr>\n    <tr>\n      <th>3</th>\n      <td>female</td>\n      <td>Lung Cancer</td>\n      <td>Cancer</td>\n      <td>under $11k</td>\n      <td>white</td>\n      <td>metastatic</td>\n      <td>42.38498</td>\n      <td>2</td>\n      <td>75.0</td>\n      <td>9.099609</td>\n      <td>...</td>\n      <td>NaN</td>\n      <td>NaN</td>\n      <td>0.799927</td>\n      <td>139.0</td>\n      <td>NaN</td>\n      <td>NaN</td>\n      <td>NaN</td>\n      <td>NaN</td>\n      <td>0.0</td>\n      <td>0.0</td>\n    </tr>\n    <tr>\n      <th>4</th>\n      <td>female</td>\n      <td>ARF/MOSF w/Sepsis</td>\n      <td>ARF/MOSF</td>\n      <td>NaN</td>\n      <td>white</td>\n      <td>no</td>\n      <td>79.88495</td>\n      <td>1</td>\n      <td>59.0</td>\n      <td>13.500000</td>\n      <td>...</td>\n      <td>NaN</td>\n      <td>NaN</td>\n      <td>0.799927</td>\n      <td>143.0</td>\n      <td>7.509766</td>\n      <td>NaN</td>\n      <td>NaN</td>\n      <td>NaN</td>\n      <td>NaN</td>\n      <td>2.0</td>\n    </tr>\n    <tr>\n      <th>...</th>\n      <td>...</td>\n      <td>...</td>\n      <td>...</td>\n      <td>...</td>\n      <td>...</td>\n      <td>...</td>\n      <td>...</td>\n      <td>...</td>\n      <td>...</td>\n      <td>...</td>\n      <td>...</td>\n      <td>...</td>\n      <td>...</td>\n      <td>...</td>\n      <td>...</td>\n      <td>...</td>\n      <td>...</td>\n      <td>...</td>\n      <td>...</td>\n      <td>...</td>\n      <td>...</td>\n    </tr>\n    <tr>\n      <th>9100</th>\n      <td>male</td>\n      <td>ARF/MOSF w/Sepsis</td>\n      <td>ARF/MOSF</td>\n      <td>NaN</td>\n      <td>white</td>\n      <td>no</td>\n      <td>66.07300</td>\n      <td>1</td>\n      <td>109.0</td>\n      <td>7.399414</td>\n      <td>...</td>\n      <td>3.699707</td>\n      <td>0.399963</td>\n      <td>1.099854</td>\n      <td>131.0</td>\n      <td>7.459961</td>\n      <td>188.0</td>\n      <td>21.0</td>\n      <td>NaN</td>\n      <td>NaN</td>\n      <td>0.0</td>\n    </tr>\n    <tr>\n      <th>9101</th>\n      <td>female</td>\n      <td>Coma</td>\n      <td>Coma</td>\n      <td>NaN</td>\n      <td>white</td>\n      <td>no</td>\n      <td>55.15399</td>\n      <td>1</td>\n      <td>43.0</td>\n      <td>NaN</td>\n      <td>...</td>\n      <td>NaN</td>\n      <td>NaN</td>\n      <td>5.899414</td>\n      <td>135.0</td>\n      <td>7.289062</td>\n      <td>190.0</td>\n      <td>49.0</td>\n      <td>0.0</td>\n      <td>NaN</td>\n      <td>0.0</td>\n    </tr>\n    <tr>\n      <th>9102</th>\n      <td>male</td>\n      <td>ARF/MOSF w/Sepsis</td>\n      <td>ARF/MOSF</td>\n      <td>NaN</td>\n      <td>white</td>\n      <td>no</td>\n      <td>70.38196</td>\n      <td>1</td>\n      <td>111.0</td>\n      <td>8.398438</td>\n      <td>...</td>\n      <td>NaN</td>\n      <td>0.399963</td>\n      <td>2.699707</td>\n      <td>139.0</td>\n      <td>7.379883</td>\n      <td>189.0</td>\n      <td>60.0</td>\n      <td>3900.0</td>\n      <td>NaN</td>\n      <td>NaN</td>\n    </tr>\n    <tr>\n      <th>9103</th>\n      <td>male</td>\n      <td>MOSF w/Malig</td>\n      <td>ARF/MOSF</td>\n      <td>NaN</td>\n      <td>white</td>\n      <td>yes</td>\n      <td>47.01999</td>\n      <td>1</td>\n      <td>99.0</td>\n      <td>7.599609</td>\n      <td>...</td>\n      <td>1.199951</td>\n      <td>0.399963</td>\n      <td>3.500000</td>\n      <td>135.0</td>\n      <td>7.469727</td>\n      <td>246.0</td>\n      <td>55.0</td>\n      <td>NaN</td>\n      <td>NaN</td>\n      <td>0.0</td>\n    </tr>\n    <tr>\n      <th>9104</th>\n      <td>female</td>\n      <td>ARF/MOSF w/Sepsis</td>\n      <td>ARF/MOSF</td>\n      <td>$11-$25k</td>\n      <td>white</td>\n      <td>no</td>\n      <td>81.53894</td>\n      <td>1</td>\n      <td>75.0</td>\n      <td>8.599609</td>\n      <td>...</td>\n      <td>4.500000</td>\n      <td>0.599976</td>\n      <td>1.199951</td>\n      <td>137.0</td>\n      <td>7.289062</td>\n      <td>187.0</td>\n      <td>15.0</td>\n      <td>NaN</td>\n      <td>0.0</td>\n      <td>NaN</td>\n    </tr>\n  </tbody>\n</table>\n<p>9105 rows × 24 columns</p>\n</div>"
     },
     "execution_count": 31,
     "metadata": {},
     "output_type": "execute_result"
    }
   ],
   "source": [
    "features"
   ],
   "metadata": {
    "collapsed": false,
    "pycharm": {
     "name": "#%%\n"
    }
   }
  },
  {
   "cell_type": "code",
   "execution_count": 38,
   "outputs": [
    {
     "name": "stderr",
     "output_type": "stream",
     "text": [
      "100%|██████████| 1/1 [00:00<00:00, 12.27it/s]\n"
     ]
    }
   ],
   "source": [
    "from auton_survival import datasets, preprocessing, models\n",
    "\n",
    "cat_feats = ['sex', 'dzgroup', 'dzclass', 'income', 'race', 'ca']\n",
    "num_feats = ['age', 'num.co', 'meanbp', 'wblc', 'hrt', 'resp',\n",
    "             'temp', 'pafi', 'alb', 'bili', 'crea', 'sod', 'ph',\n",
    "             'glucose', 'bun', 'urine', 'adlp', 'adls']\n",
    "# Preprocess (Impute and Scale) the features\n",
    "features = preprocessing.Preprocessor().fit_transform(features, cat_feats, num_feats)\n",
    "\n",
    "# Train a Deep Cox Proportional Hazards (DCPH) model\n",
    "model = models.cph.DeepCoxPH(layers=[100])\n",
    "model.fit(features, outcomes.time, outcomes.event)\n",
    "\n"
   ],
   "metadata": {
    "collapsed": false,
    "pycharm": {
     "name": "#%%\n"
    }
   }
  },
  {
   "cell_type": "code",
   "execution_count": 41,
   "outputs": [],
   "source": [
    "# Predict risk at specific time horizons.\n",
    "predictions = model.predict_risk(features.iloc[0], t=[8, 12, 16])"
   ],
   "metadata": {
    "collapsed": false,
    "pycharm": {
     "name": "#%%\n"
    }
   }
  },
  {
   "cell_type": "code",
   "execution_count": 42,
   "outputs": [
    {
     "data": {
      "text/plain": "array([[0.20516453, 0.28220015, 0.33294449]])"
     },
     "execution_count": 42,
     "metadata": {},
     "output_type": "execute_result"
    }
   ],
   "source": [
    "predictions"
   ],
   "metadata": {
    "collapsed": false,
    "pycharm": {
     "name": "#%%\n"
    }
   }
  },
  {
   "cell_type": "code",
   "execution_count": 3,
   "outputs": [],
   "source": [
    "from auton_survival.preprocessing import Preprocessor\n",
    "\n",
    "cat_feats = ['sex', 'dzgroup', 'dzclass', 'income', 'race', 'ca']\n",
    "num_feats = ['age', 'num.co', 'meanbp', 'wblc', 'hrt', 'resp',\n",
    "             'temp', 'pafi', 'alb', 'bili', 'crea', 'sod', 'ph',\n",
    "             'glucose', 'bun', 'urine', 'adlp', 'adls']\n",
    "\n",
    "# Data should be processed in a fold-independent manner when performing cross-validation.\n",
    "# For simplicity in this demo, we process the dataset in a non-independent manner.\n",
    "preprocessor = Preprocessor(cat_feat_strat='ignore', num_feat_strat= 'mean')\n",
    "x = preprocessor.fit_transform(features, cat_feats=cat_feats, num_feats=num_feats,\n",
    "                               one_hot=True, fill_value=-1)"
   ],
   "metadata": {
    "collapsed": false,
    "pycharm": {
     "name": "#%%\n"
    }
   }
  },
  {
   "cell_type": "code",
   "execution_count": 4,
   "outputs": [],
   "source": [
    "import numpy as np\n",
    "times = np.quantile(outcomes.time[outcomes.event==1], [0.25, 0.5, 0.75]).tolist()"
   ],
   "metadata": {
    "collapsed": false,
    "pycharm": {
     "name": "#%%\n"
    }
   }
  },
  {
   "cell_type": "code",
   "execution_count": 5,
   "outputs": [
    {
     "name": "stdout",
     "output_type": "stream",
     "text": [
      "At hyper-param {'distribution': 'Weibull', 'k': 3, 'layers': [100], 'learning_rate': 0.0001}\n",
      "At fold: 0\n"
     ]
    },
    {
     "name": "stderr",
     "output_type": "stream",
     "text": [
      " 13%|█▎        | 1281/10000 [00:02<00:14, 607.84it/s]\n",
      "100%|██████████| 50/50 [00:04<00:00, 11.33it/s]\n"
     ]
    },
    {
     "name": "stdout",
     "output_type": "stream",
     "text": [
      "At fold: 1\n"
     ]
    },
    {
     "name": "stderr",
     "output_type": "stream",
     "text": [
      " 18%|█▊        | 1767/10000 [00:02<00:12, 675.62it/s]\n",
      "100%|██████████| 50/50 [00:04<00:00, 11.18it/s]\n"
     ]
    },
    {
     "name": "stdout",
     "output_type": "stream",
     "text": [
      "At fold: 2\n"
     ]
    },
    {
     "name": "stderr",
     "output_type": "stream",
     "text": [
      " 14%|█▍        | 1429/10000 [00:02<00:12, 661.70it/s]\n",
      "100%|██████████| 50/50 [00:04<00:00, 11.56it/s]\n"
     ]
    },
    {
     "name": "stdout",
     "output_type": "stream",
     "text": [
      "At hyper-param {'distribution': 'Weibull', 'k': 3, 'layers': [100], 'learning_rate': 0.001}\n",
      "At fold: 0\n"
     ]
    },
    {
     "name": "stderr",
     "output_type": "stream",
     "text": [
      " 13%|█▎        | 1281/10000 [00:01<00:13, 645.21it/s]\n",
      "100%|██████████| 50/50 [00:04<00:00, 11.44it/s]\n"
     ]
    },
    {
     "name": "stdout",
     "output_type": "stream",
     "text": [
      "At fold: 1\n"
     ]
    },
    {
     "name": "stderr",
     "output_type": "stream",
     "text": [
      " 18%|█▊        | 1767/10000 [00:02<00:11, 696.91it/s]\n",
      "100%|██████████| 50/50 [00:04<00:00, 11.40it/s]\n"
     ]
    },
    {
     "name": "stdout",
     "output_type": "stream",
     "text": [
      "At fold: 2\n"
     ]
    },
    {
     "name": "stderr",
     "output_type": "stream",
     "text": [
      " 14%|█▍        | 1429/10000 [00:02<00:12, 707.36it/s]\n",
      "100%|██████████| 50/50 [00:04<00:00, 11.15it/s]\n",
      " 19%|█▉        | 1886/10000 [00:03<00:13, 610.67it/s]\n",
      "100%|██████████| 50/50 [00:06<00:00,  7.48it/s]\n"
     ]
    }
   ],
   "source": [
    "from auton_survival.experiments import SurvivalRegressionCV\n",
    "\n",
    "param_grid = {'k' : [3],\n",
    "              'distribution' : ['Weibull'],\n",
    "              'learning_rate' : [1e-4, 1e-3],\n",
    "              'layers' : [[100]]}\n",
    "\n",
    "experiment = SurvivalRegressionCV(model='dsm', num_folds=3, hyperparam_grid=param_grid, random_seed=0)\n",
    "model = experiment.fit(x, outcomes, times, metric='brs')"
   ],
   "metadata": {
    "collapsed": false,
    "pycharm": {
     "name": "#%%\n"
    }
   }
  },
  {
   "cell_type": "code",
   "execution_count": 6,
   "outputs": [
    {
     "name": "stdout",
     "output_type": "stream",
     "text": [
      "[2 2 0 ... 0 0 0]\n"
     ]
    },
    {
     "data": {
      "text/plain": "<auton_survival.estimators.SurvivalModel at 0x7fce52982a00>"
     },
     "execution_count": 6,
     "metadata": {},
     "output_type": "execute_result"
    }
   ],
   "source": [
    "print(experiment.folds)\n",
    "model"
   ],
   "metadata": {
    "collapsed": false,
    "pycharm": {
     "name": "#%%\n"
    }
   }
  },
  {
   "cell_type": "code",
   "execution_count": 7,
   "outputs": [],
   "source": [
    "out_risk = model.predict_risk(x, times)\n",
    "out_survival = model.predict_survival(x, times)"
   ],
   "metadata": {
    "collapsed": false,
    "pycharm": {
     "name": "#%%\n"
    }
   }
  },
  {
   "cell_type": "code",
   "execution_count": 8,
   "outputs": [
    {
     "name": "stdout",
     "output_type": "stream",
     "text": [
      "[0.12917649 0.19436242 0.20631976]\n",
      "[0.12691664 0.19280962 0.20635106]\n",
      "[0.12159038 0.19158577 0.20871653]\n"
     ]
    },
    {
     "name": "stderr",
     "output_type": "stream",
     "text": [
      "/Users/davidlee/Documents/GitHub/DeepSurvivalMachines/auton_survival/metrics.py:212: UserWarning: You are are evaluating model performance on the same data used to estimate the censoring distribution.\n",
      "  warnings.warn(\"You are are evaluating model performance on the \\\n",
      "/Users/davidlee/Documents/GitHub/DeepSurvivalMachines/auton_survival/metrics.py:212: UserWarning: You are are evaluating model performance on the same data used to estimate the censoring distribution.\n",
      "  warnings.warn(\"You are are evaluating model performance on the \\\n",
      "/Users/davidlee/Documents/GitHub/DeepSurvivalMachines/auton_survival/metrics.py:212: UserWarning: You are are evaluating model performance on the same data used to estimate the censoring distribution.\n",
      "  warnings.warn(\"You are are evaluating model performance on the \\\n"
     ]
    }
   ],
   "source": [
    "from auton_survival.metrics import survival_regression_metric\n",
    "\n",
    "for fold in set(experiment.folds):\n",
    "    print(survival_regression_metric('brs', outcomes[experiment.folds==fold],\n",
    "                                     out_survival[experiment.folds==fold],\n",
    "                                     times=times))"
   ],
   "metadata": {
    "collapsed": false,
    "pycharm": {
     "name": "#%%\n"
    }
   }
  },
  {
   "cell_type": "code",
   "execution_count": 9,
   "outputs": [
    {
     "name": "stderr",
     "output_type": "stream",
     "text": [
      "/Users/davidlee/Documents/GitHub/DeepSurvivalMachines/auton_survival/metrics.py:212: UserWarning: You are are evaluating model performance on the same data used to estimate the censoring distribution.\n",
      "  warnings.warn(\"You are are evaluating model performance on the \\\n"
     ]
    },
    {
     "name": "stdout",
     "output_type": "stream",
     "text": [
      "[0.765472457063747, 0.7223859858263633, 0.688765174086125]\n"
     ]
    },
    {
     "name": "stderr",
     "output_type": "stream",
     "text": [
      "/Users/davidlee/Documents/GitHub/DeepSurvivalMachines/auton_survival/metrics.py:212: UserWarning: You are are evaluating model performance on the same data used to estimate the censoring distribution.\n",
      "  warnings.warn(\"You are are evaluating model performance on the \\\n"
     ]
    },
    {
     "name": "stdout",
     "output_type": "stream",
     "text": [
      "[0.781271531344058, 0.7275326444323827, 0.688923316104416]\n"
     ]
    },
    {
     "name": "stderr",
     "output_type": "stream",
     "text": [
      "/Users/davidlee/Documents/GitHub/DeepSurvivalMachines/auton_survival/metrics.py:212: UserWarning: You are are evaluating model performance on the same data used to estimate the censoring distribution.\n",
      "  warnings.warn(\"You are are evaluating model performance on the \\\n"
     ]
    },
    {
     "name": "stdout",
     "output_type": "stream",
     "text": [
      "[0.7612520620726958, 0.7181912109861889, 0.6816684343816966]\n"
     ]
    }
   ],
   "source": [
    "from auton_survival.metrics import survival_regression_metric\n",
    "\n",
    "for fold in set(experiment.folds):\n",
    "    print(survival_regression_metric('ctd', outcomes[experiment.folds==fold],\n",
    "                                     out_survival[experiment.folds==fold],\n",
    "                                     times=times))"
   ],
   "metadata": {
    "collapsed": false,
    "pycharm": {
     "name": "#%%\n"
    }
   }
  },
  {
   "cell_type": "code",
   "execution_count": 10,
   "outputs": [
    {
     "name": "stdout",
     "output_type": "stream",
     "text": [
      "14.0\n",
      "58.0\n",
      "252.0\n",
      "14.0\n",
      "58.0\n",
      "252.0\n",
      "14.0\n",
      "58.0\n",
      "252.0\n"
     ]
    }
   ],
   "source": [
    "for fold in set(experiment.folds):\n",
    "    for time in times:\n",
    "        print(time)"
   ],
   "metadata": {
    "collapsed": false,
    "pycharm": {
     "name": "#%%\n"
    }
   }
  }
 ],
 "metadata": {
  "kernelspec": {
   "display_name": "Python 3",
   "language": "python",
   "name": "python3"
  },
  "language_info": {
   "codemirror_mode": {
    "name": "ipython",
    "version": 2
   },
   "file_extension": ".py",
   "mimetype": "text/x-python",
   "name": "python",
   "nbconvert_exporter": "python",
   "pygments_lexer": "ipython2",
   "version": "2.7.6"
  }
 },
 "nbformat": 4,
 "nbformat_minor": 0
}