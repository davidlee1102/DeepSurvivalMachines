{
 "cells": [
  {
   "cell_type": "code",
   "execution_count": 2,
   "outputs": [],
   "source": [
    "import sys\n",
    "\n",
    "sys.path.append('../')\n",
    "from auton_survival import datasets\n",
    "outcomes, features = datasets.load_support()"
   ],
   "metadata": {
    "collapsed": false
   }
  },
  {
   "cell_type": "code",
   "execution_count": 3,
   "outputs": [],
   "source": [
    "from auton_survival.preprocessing import Preprocessor\n",
    "\n",
    "cat_feats = ['sex', 'dzgroup', 'dzclass', 'income', 'race', 'ca']\n",
    "num_feats = ['age', 'num.co', 'meanbp', 'wblc', 'hrt', 'resp',\n",
    "             'temp', 'pafi', 'alb', 'bili', 'crea', 'sod', 'ph',\n",
    "             'glucose', 'bun', 'urine', 'adlp', 'adls']\n",
    "\n",
    "# Data should be processed in a fold-independent manner when performing cross-validation.\n",
    "# For simplicity in this demo, we process the dataset in a non-independent manner.\n",
    "preprocessor = Preprocessor(cat_feat_strat='ignore', num_feat_strat= 'mean')\n",
    "x = preprocessor.fit_transform(features, cat_feats=cat_feats, num_feats=num_feats,\n",
    "                               one_hot=True, fill_value=-1)"
   ],
   "metadata": {
    "collapsed": false
   }
  },
  {
   "cell_type": "code",
   "execution_count": 4,
   "outputs": [],
   "source": [
    "import numpy as np\n",
    "times = np.quantile(outcomes.time[outcomes.event==1], [0.25, 0.5, 0.75]).tolist()"
   ],
   "metadata": {
    "collapsed": false
   }
  },
  {
   "cell_type": "code",
   "execution_count": 5,
   "outputs": [
    {
     "name": "stdout",
     "output_type": "stream",
     "text": [
      "At hyper-param {'distribution': 'Weibull', 'k': 3, 'layers': [100], 'learning_rate': 0.0001}\n",
      "At fold: 0\n"
     ]
    },
    {
     "name": "stderr",
     "output_type": "stream",
     "text": [
      " 13%|█▎        | 1281/10000 [00:02<00:14, 607.84it/s]\n",
      "100%|██████████| 50/50 [00:04<00:00, 11.33it/s]\n"
     ]
    },
    {
     "name": "stdout",
     "output_type": "stream",
     "text": [
      "At fold: 1\n"
     ]
    },
    {
     "name": "stderr",
     "output_type": "stream",
     "text": [
      " 18%|█▊        | 1767/10000 [00:02<00:12, 675.62it/s]\n",
      "100%|██████████| 50/50 [00:04<00:00, 11.18it/s]\n"
     ]
    },
    {
     "name": "stdout",
     "output_type": "stream",
     "text": [
      "At fold: 2\n"
     ]
    },
    {
     "name": "stderr",
     "output_type": "stream",
     "text": [
      " 14%|█▍        | 1429/10000 [00:02<00:12, 661.70it/s]\n",
      "100%|██████████| 50/50 [00:04<00:00, 11.56it/s]\n"
     ]
    },
    {
     "name": "stdout",
     "output_type": "stream",
     "text": [
      "At hyper-param {'distribution': 'Weibull', 'k': 3, 'layers': [100], 'learning_rate': 0.001}\n",
      "At fold: 0\n"
     ]
    },
    {
     "name": "stderr",
     "output_type": "stream",
     "text": [
      " 13%|█▎        | 1281/10000 [00:01<00:13, 645.21it/s]\n",
      "100%|██████████| 50/50 [00:04<00:00, 11.44it/s]\n"
     ]
    },
    {
     "name": "stdout",
     "output_type": "stream",
     "text": [
      "At fold: 1\n"
     ]
    },
    {
     "name": "stderr",
     "output_type": "stream",
     "text": [
      " 18%|█▊        | 1767/10000 [00:02<00:11, 696.91it/s]\n",
      "100%|██████████| 50/50 [00:04<00:00, 11.40it/s]\n"
     ]
    },
    {
     "name": "stdout",
     "output_type": "stream",
     "text": [
      "At fold: 2\n"
     ]
    },
    {
     "name": "stderr",
     "output_type": "stream",
     "text": [
      " 14%|█▍        | 1429/10000 [00:02<00:12, 707.36it/s]\n",
      "100%|██████████| 50/50 [00:04<00:00, 11.15it/s]\n",
      " 19%|█▉        | 1886/10000 [00:03<00:13, 610.67it/s]\n",
      "100%|██████████| 50/50 [00:06<00:00,  7.48it/s]\n"
     ]
    }
   ],
   "source": [
    "from auton_survival.experiments import SurvivalRegressionCV\n",
    "\n",
    "param_grid = {'k' : [3],\n",
    "              'distribution' : ['Weibull'],\n",
    "              'learning_rate' : [1e-4, 1e-3],\n",
    "              'layers' : [[100]]}\n",
    "\n",
    "experiment = SurvivalRegressionCV(model='dsm', num_folds=3, hyperparam_grid=param_grid, random_seed=0)\n",
    "model = experiment.fit(x, outcomes, times, metric='brs')"
   ],
   "metadata": {
    "collapsed": false
   }
  },
  {
   "cell_type": "code",
   "execution_count": 6,
   "outputs": [
    {
     "name": "stdout",
     "output_type": "stream",
     "text": [
      "[2 2 0 ... 0 0 0]\n"
     ]
    },
    {
     "data": {
      "text/plain": "<auton_survival.estimators.SurvivalModel at 0x7fce52982a00>"
     },
     "execution_count": 6,
     "metadata": {},
     "output_type": "execute_result"
    }
   ],
   "source": [
    "print(experiment.folds)\n",
    "model"
   ],
   "metadata": {
    "collapsed": false
   }
  },
  {
   "cell_type": "code",
   "execution_count": 7,
   "outputs": [],
   "source": [
    "out_risk = model.predict_risk(x, times)\n",
    "out_survival = model.predict_survival(x, times)"
   ],
   "metadata": {
    "collapsed": false
   }
  },
  {
   "cell_type": "code",
   "execution_count": 8,
   "outputs": [
    {
     "name": "stdout",
     "output_type": "stream",
     "text": [
      "[0.12917649 0.19436242 0.20631976]\n",
      "[0.12691664 0.19280962 0.20635106]\n",
      "[0.12159038 0.19158577 0.20871653]\n"
     ]
    },
    {
     "name": "stderr",
     "output_type": "stream",
     "text": [
      "/Users/davidlee/Documents/GitHub/DeepSurvivalMachines/auton_survival/metrics.py:212: UserWarning: You are are evaluating model performance on the same data used to estimate the censoring distribution.\n",
      "  warnings.warn(\"You are are evaluating model performance on the \\\n",
      "/Users/davidlee/Documents/GitHub/DeepSurvivalMachines/auton_survival/metrics.py:212: UserWarning: You are are evaluating model performance on the same data used to estimate the censoring distribution.\n",
      "  warnings.warn(\"You are are evaluating model performance on the \\\n",
      "/Users/davidlee/Documents/GitHub/DeepSurvivalMachines/auton_survival/metrics.py:212: UserWarning: You are are evaluating model performance on the same data used to estimate the censoring distribution.\n",
      "  warnings.warn(\"You are are evaluating model performance on the \\\n"
     ]
    }
   ],
   "source": [
    "from auton_survival.metrics import survival_regression_metric\n",
    "\n",
    "for fold in set(experiment.folds):\n",
    "    print(survival_regression_metric('brs', outcomes[experiment.folds==fold],\n",
    "                                     out_survival[experiment.folds==fold],\n",
    "                                     times=times))"
   ],
   "metadata": {
    "collapsed": false
   }
  },
  {
   "cell_type": "code",
   "execution_count": 9,
   "outputs": [
    {
     "name": "stderr",
     "output_type": "stream",
     "text": [
      "/Users/davidlee/Documents/GitHub/DeepSurvivalMachines/auton_survival/metrics.py:212: UserWarning: You are are evaluating model performance on the same data used to estimate the censoring distribution.\n",
      "  warnings.warn(\"You are are evaluating model performance on the \\\n"
     ]
    },
    {
     "name": "stdout",
     "output_type": "stream",
     "text": [
      "[0.765472457063747, 0.7223859858263633, 0.688765174086125]\n"
     ]
    },
    {
     "name": "stderr",
     "output_type": "stream",
     "text": [
      "/Users/davidlee/Documents/GitHub/DeepSurvivalMachines/auton_survival/metrics.py:212: UserWarning: You are are evaluating model performance on the same data used to estimate the censoring distribution.\n",
      "  warnings.warn(\"You are are evaluating model performance on the \\\n"
     ]
    },
    {
     "name": "stdout",
     "output_type": "stream",
     "text": [
      "[0.781271531344058, 0.7275326444323827, 0.688923316104416]\n"
     ]
    },
    {
     "name": "stderr",
     "output_type": "stream",
     "text": [
      "/Users/davidlee/Documents/GitHub/DeepSurvivalMachines/auton_survival/metrics.py:212: UserWarning: You are are evaluating model performance on the same data used to estimate the censoring distribution.\n",
      "  warnings.warn(\"You are are evaluating model performance on the \\\n"
     ]
    },
    {
     "name": "stdout",
     "output_type": "stream",
     "text": [
      "[0.7612520620726958, 0.7181912109861889, 0.6816684343816966]\n"
     ]
    }
   ],
   "source": [
    "from auton_survival.metrics import survival_regression_metric\n",
    "\n",
    "for fold in set(experiment.folds):\n",
    "    print(survival_regression_metric('ctd', outcomes[experiment.folds==fold],\n",
    "                                     out_survival[experiment.folds==fold],\n",
    "                                     times=times))"
   ],
   "metadata": {
    "collapsed": false
   }
  },
  {
   "cell_type": "code",
   "execution_count": 10,
   "outputs": [
    {
     "name": "stdout",
     "output_type": "stream",
     "text": [
      "14.0\n",
      "58.0\n",
      "252.0\n",
      "14.0\n",
      "58.0\n",
      "252.0\n",
      "14.0\n",
      "58.0\n",
      "252.0\n"
     ]
    }
   ],
   "source": [
    "for fold in set(experiment.folds):\n",
    "    for time in times:\n",
    "        print(time)"
   ],
   "metadata": {
    "collapsed": false
   }
  }
 ],
 "metadata": {
  "kernelspec": {
   "display_name": "Python 3",
   "language": "python",
   "name": "python3"
  },
  "language_info": {
   "codemirror_mode": {
    "name": "ipython",
    "version": 2
   },
   "file_extension": ".py",
   "mimetype": "text/x-python",
   "name": "python",
   "nbconvert_exporter": "python",
   "pygments_lexer": "ipython2",
   "version": "2.7.6"
  }
 },
 "nbformat": 4,
 "nbformat_minor": 0
}
